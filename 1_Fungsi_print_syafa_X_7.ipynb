{
  "nbformat": 4,
  "nbformat_minor": 0,
  "metadata": {
    "colab": {
      "provenance": [],
      "authorship_tag": "ABX9TyPgDP2LnqsluLHSAeriHBO6",
      "include_colab_link": true
    },
    "kernelspec": {
      "name": "python3",
      "display_name": "Python 3"
    },
    "language_info": {
      "name": "python"
    }
  },
  "cells": [
    {
      "cell_type": "markdown",
      "metadata": {
        "id": "view-in-github",
        "colab_type": "text"
      },
      "source": [
        "<a href=\"https://colab.research.google.com/github/syafaanisepti-dev/KKASntl-Nama-X-7/blob/main/1_Fungsi_print_syafa_X_7.ipynb\" target=\"_parent\"><img src=\"https://colab.research.google.com/assets/colab-badge.svg\" alt=\"Open In Colab\"/></a>"
      ]
    },
    {
      "cell_type": "markdown",
      "source": [
        "\n",
        "Nama: syafa septiani\n",
        "\n",
        "kelas: X-7\n",
        "\n",
        "Nomor Absen: 34"
      ],
      "metadata": {
        "id": "i0bpNxOYU12G"
      }
    },
    {
      "cell_type": "markdown",
      "source": [],
      "metadata": {
        "id": "6fQsPiLmZEK1"
      }
    },
    {
      "cell_type": "code",
      "source": [],
      "metadata": {
        "id": "ft_VsbN4My2D"
      },
      "execution_count": null,
      "outputs": []
    },
    {
      "cell_type": "code",
      "source": [
        "harga_telur = 26000\n",
        "nama_pembeli = \"Syafa\"\n",
        "\n",
        "print(\"Harga telur adalah\" , harga_telur , \"per kilogram\")\n",
        "print(\"Nama pembeli adalah\",nama_pembeli)"
      ],
      "metadata": {
        "colab": {
          "base_uri": "https://localhost:8080/"
        },
        "id": "vVPQwaHuM0cq",
        "outputId": "1291d3aa-8290-4213-d45b-49e9acc44e71"
      },
      "execution_count": null,
      "outputs": [
        {
          "output_type": "stream",
          "name": "stdout",
          "text": [
            "Harga telur adalah 26000 per kilogram\n",
            "Nama pembeli adalah Syafa\n"
          ]
        }
      ]
    },
    {
      "cell_type": "code",
      "source": [
        "print(\"Harga telur adalah \" + str(harga_telur)+\" per kilogram\")\n",
        "print(\"Nama pembeli adalah \" + nama_pembeli )"
      ],
      "metadata": {
        "id": "DYKbaHpKR_D7",
        "colab": {
          "base_uri": "https://localhost:8080/"
        },
        "outputId": "e1d65384-0ed7-4c99-8941-a7dbf0183530"
      },
      "execution_count": null,
      "outputs": [
        {
          "output_type": "stream",
          "name": "stdout",
          "text": [
            "Harga telur adalah 26000 per kilogram\n",
            "Nama pembeli adalah Syafa\n"
          ]
        }
      ]
    },
    {
      "cell_type": "code",
      "source": [
        "print(\"Harga telur adalah \" , harga_telur  , \"per kilogram\")\n",
        "print(\"Nama pembeli telur adalah\", nama_pembeli )"
      ],
      "metadata": {
        "colab": {
          "base_uri": "https://localhost:8080/"
        },
        "id": "IH3YhbG4TNjc",
        "outputId": "9f897a1d-8217-42bc-c88b-529e42852de2"
      },
      "execution_count": null,
      "outputs": [
        {
          "output_type": "stream",
          "name": "stdout",
          "text": [
            "Harga telur adalah  26000 per kilogram\n",
            "Nama pembeli telur adalah Syafa\n"
          ]
        }
      ]
    },
    {
      "cell_type": "code",
      "source": [
        "print(\"Nama: Syafa septiani\")\n",
        "print(\"Kelas: X-7\")\n",
        "print(\"Nomor absen:29\")"
      ],
      "metadata": {
        "colab": {
          "base_uri": "https://localhost:8080/"
        },
        "id": "p8Amr9zTVFAG",
        "outputId": "655b86f6-9822-494a-d00c-c31136551366"
      },
      "execution_count": null,
      "outputs": [
        {
          "output_type": "stream",
          "name": "stdout",
          "text": [
            "Nama: Syafa septiani\n",
            "Kelas: X-7\n",
            "Nomor absen:29\n"
          ]
        }
      ]
    },
    {
      "cell_type": "code",
      "source": [
        "print(\"Nama\\t\\t: Syafa septiani\\nkelas\\t\\t: X-7\\nNomor absen\\t: 34\")"
      ],
      "metadata": {
        "colab": {
          "base_uri": "https://localhost:8080/"
        },
        "id": "C9NaLPdDVoNG",
        "outputId": "1cd06a17-32ab-4cc0-86cd-f7beea8ee339"
      },
      "execution_count": null,
      "outputs": [
        {
          "output_type": "stream",
          "name": "stdout",
          "text": [
            "Nama\t\t: Syafa septiani\n",
            "kelas\t\t: X-7\n",
            "Nomor absen\t: 34\n"
          ]
        }
      ]
    },
    {
      "cell_type": "code",
      "source": [
        "print(\"\"\"Nama: Syafa septiani\n",
        "Kelas: X.7\n",
        "Nomor absen: 34\"\"\")"
      ],
      "metadata": {
        "colab": {
          "base_uri": "https://localhost:8080/"
        },
        "id": "bOh-Aq7aWiu6",
        "outputId": "89ec78bf-be3e-47ae-d838-7935ad9e2f6d"
      },
      "execution_count": null,
      "outputs": [
        {
          "output_type": "stream",
          "name": "stdout",
          "text": [
            "Nama: Syafa septiani \n",
            "Kelas: X.7\n",
            "Nomor absen: 34\n"
          ]
        }
      ]
    },
    {
      "cell_type": "code",
      "source": [
        "print(\"Harga telur\") ya"
      ],
      "metadata": {
        "id": "1DzbjikNRPYX"
      },
      "execution_count": null,
      "outputs": []
    },
    {
      "cell_type": "code",
      "source": [],
      "metadata": {
        "id": "_gBuYidCVt2k"
      },
      "execution_count": null,
      "outputs": []
    },
    {
      "cell_type": "code",
      "source": [
        "print(\"Nama: Habib jafar\")"
      ],
      "metadata": {
        "id": "a9TjsKtJOzNB",
        "colab": {
          "base_uri": "https://localhost:8080/"
        },
        "outputId": "9f9527e5-80fc-4b37-eec5-30fe4575e1c3"
      },
      "execution_count": null,
      "outputs": [
        {
          "output_type": "stream",
          "name": "stdout",
          "text": [
            "Nama: Habib jafar\n"
          ]
        }
      ]
    },
    {
      "cell_type": "code",
      "source": [
        "print('Nama: Habib jafar')"
      ],
      "metadata": {
        "colab": {
          "base_uri": "https://localhost:8080/"
        },
        "id": "NyB1-nceQ34r",
        "outputId": "77b992d8-fb3b-459f-fd04-c6252dbfa758"
      },
      "execution_count": null,
      "outputs": [
        {
          "output_type": "stream",
          "name": "stdout",
          "text": [
            "Nama: Habib jafar\n"
          ]
        }
      ]
    },
    {
      "cell_type": "code",
      "source": [
        "print('Nama: Habib ja\\'far')"
      ],
      "metadata": {
        "colab": {
          "base_uri": "https://localhost:8080/"
        },
        "id": "FYYmJQdORC0A",
        "outputId": "eed6ec9a-9ab3-45a0-b00d-c604671b4f96"
      },
      "execution_count": null,
      "outputs": [
        {
          "output_type": "stream",
          "name": "stdout",
          "text": [
            "Nama: Habib ja'far\n"
          ]
        }
      ]
    },
    {
      "cell_type": "code",
      "source": [
        "print()"
      ],
      "metadata": {
        "id": "aIWULjCzRQ5R"
      },
      "execution_count": null,
      "outputs": []
    },
    {
      "cell_type": "code",
      "source": [
        "print(\"Nama: Habib ja'far\")"
      ],
      "metadata": {
        "colab": {
          "base_uri": "https://localhost:8080/"
        },
        "id": "Ub3zj5L9RMbG",
        "outputId": "f195e4a1-755b-4e4f-b278-eff97b910600"
      },
      "execution_count": null,
      "outputs": [
        {
          "output_type": "stream",
          "name": "stdout",
          "text": [
            "Nama: Habib ja'far\n"
          ]
        }
      ]
    },
    {
      "cell_type": "code",
      "source": [],
      "metadata": {
        "id": "aVbqK7AVQk7L"
      },
      "execution_count": null,
      "outputs": []
    },
    {
      "cell_type": "markdown",
      "source": [
        "Parameter Fungsi print"
      ],
      "metadata": {
        "id": "GTpd0OHIV7lj"
      }
    },
    {
      "cell_type": "code",
      "source": [
        "Tanggal = 18\n",
        "Bulan = \"Februari\"\n",
        "Tahun = 2000\n",
        "\n",
        "#18-Februari-2000\n",
        "print(Tanggal)\n",
        "print(Bulan)\n",
        "print(Tahun)"
      ],
      "metadata": {
        "colab": {
          "base_uri": "https://localhost:8080/"
        },
        "id": "RIU6_T1dWFBs",
        "outputId": "51690ffc-1325-49ad-da6c-3979fcf45263"
      },
      "execution_count": null,
      "outputs": [
        {
          "output_type": "stream",
          "name": "stdout",
          "text": [
            "18\n",
            "Februari\n",
            "2000\n"
          ]
        }
      ]
    },
    {
      "cell_type": "code",
      "source": [
        "#18-Februari-2000\n",
        "print(Tanggal, Bulan, Tahun, sep=\"_\")"
      ],
      "metadata": {
        "colab": {
          "base_uri": "https://localhost:8080/"
        },
        "id": "DpsVUxJiXACJ",
        "outputId": "26b23cd2-5675-4927-e9cc-5c4cc6711205"
      },
      "execution_count": null,
      "outputs": [
        {
          "output_type": "stream",
          "name": "stdout",
          "text": [
            "18_Februari_2000\n"
          ]
        }
      ]
    },
    {
      "cell_type": "code",
      "source": [
        "#18-Februari-2000\n",
        "print(Tanggal, end=\"_\")\n",
        "print(Bulan, end=\"_\")\n",
        "print(Tahun)"
      ],
      "metadata": {
        "id": "TuDUwyyKXV9l",
        "outputId": "fd1c1a74-120d-4be7-d6f3-4e63ce2e9646",
        "colab": {
          "base_uri": "https://localhost:8080/"
        }
      },
      "execution_count": null,
      "outputs": [
        {
          "output_type": "stream",
          "name": "stdout",
          "text": [
            "18_Februari_2000\n"
          ]
        }
      ]
    },
    {
      "cell_type": "code",
      "source": [
        "print(\"Bu Shinta berkata, \\\"Tenang fokus sejenak!\\\".\")"
      ],
      "metadata": {
        "colab": {
          "base_uri": "https://localhost:8080/"
        },
        "id": "vg2rboknReT4",
        "outputId": "fe6bb274-0702-4b2c-b495-3d5c32cfd06a"
      },
      "execution_count": null,
      "outputs": [
        {
          "output_type": "stream",
          "name": "stdout",
          "text": [
            "Bu Shinta berkata, \"Tenang fokus sejenak!\".\n"
          ]
        }
      ]
    },
    {
      "cell_type": "code",
      "source": [
        "print('Bu Shinta berkata, \"Tenang fokus sejenak!\".')"
      ],
      "metadata": {
        "colab": {
          "base_uri": "https://localhost:8080/"
        },
        "id": "mCA26VYJRzno",
        "outputId": "51f44745-36d8-4dd7-f870-e75d395b6472"
      },
      "execution_count": null,
      "outputs": [
        {
          "output_type": "stream",
          "name": "stdout",
          "text": [
            "Bu Shinta berkata, \"Tenang fokus sejenak!\".\n"
          ]
        }
      ]
    },
    {
      "cell_type": "code",
      "source": [
        "print(\"Lokasi penyimpanan tugas KKA ada di local disk D:\\\\KKA\\\\Tugas\")"
      ],
      "metadata": {
        "colab": {
          "base_uri": "https://localhost:8080/"
        },
        "id": "ecZQQ4FaSEGB",
        "outputId": "a354000f-c240-4e82-dca3-ed1ffaad1096"
      },
      "execution_count": null,
      "outputs": [
        {
          "output_type": "stream",
          "name": "stdout",
          "text": [
            "Lokasi penyimpanan tugas KKA ada di local disk D:\\KKA\\Tugas\n"
          ]
        }
      ]
    },
    {
      "cell_type": "markdown",
      "source": [
        "#Menampilkan Teks Bebas dengan Tanda Kutip"
      ],
      "metadata": {
        "id": "IdC-2cKZPMJz"
      }
    },
    {
      "cell_type": "markdown",
      "source": [
        "#Menampilkan Variabel Integer"
      ],
      "metadata": {
        "id": "Uc8LG3BLQVb0"
      }
    },
    {
      "cell_type": "code",
      "execution_count": null,
      "metadata": {
        "colab": {
          "base_uri": "https://localhost:8080/"
        },
        "id": "a8C4BUAEJEyI",
        "outputId": "1065cf8e-2897-43a0-f635-64c939bcf0eb"
      },
      "outputs": [
        {
          "output_type": "stream",
          "name": "stdout",
          "text": [
            "hallo world!\n"
          ]
        }
      ],
      "source": [
        "print(\"hallo world!\")"
      ]
    },
    {
      "cell_type": "code",
      "source": [
        "print(\"syafa septiani!\")"
      ],
      "metadata": {
        "colab": {
          "base_uri": "https://localhost:8080/"
        },
        "id": "38_jYMvgKop9",
        "outputId": "0b2bf583-b769-4c7e-ac9f-1ad4f42aeec7"
      },
      "execution_count": null,
      "outputs": [
        {
          "output_type": "stream",
          "name": "stdout",
          "text": [
            "syafa septiani!\n"
          ]
        }
      ]
    },
    {
      "cell_type": "code",
      "source": [
        "\n",
        "usia = 20\n",
        "print(usia)"
      ],
      "metadata": {
        "colab": {
          "base_uri": "https://localhost:8080/"
        },
        "id": "8rjUXupnMMza",
        "outputId": "ec3ab5e3-97c3-4aae-a6e6-50ba07f63241"
      },
      "execution_count": null,
      "outputs": [
        {
          "output_type": "stream",
          "name": "stdout",
          "text": [
            "20\n"
          ]
        }
      ]
    },
    {
      "cell_type": "code",
      "source": [
        "beratBadan = 50\n",
        "print(beratBadan)"
      ],
      "metadata": {
        "colab": {
          "base_uri": "https://localhost:8080/"
        },
        "id": "Rx3UyNyGM56_",
        "outputId": "3690a011-ca4c-49a5-8999-27c39d462dd0"
      },
      "execution_count": null,
      "outputs": [
        {
          "output_type": "stream",
          "name": "stdout",
          "text": [
            "50\n"
          ]
        }
      ]
    },
    {
      "cell_type": "markdown",
      "source": [
        "#Menampilkan Teks Bebas Dan Nilai Variabel"
      ],
      "metadata": {
        "id": "-agSDrw7QsP9"
      }
    },
    {
      "cell_type": "code",
      "source": [
        "tinggibadan = 156\n",
        "print(tinggibadan)"
      ],
      "metadata": {
        "colab": {
          "base_uri": "https://localhost:8080/"
        },
        "id": "StlwlwhxNbtB",
        "outputId": "4425834f-fc0b-4cf5-d2a9-4ad629a2265d"
      },
      "execution_count": null,
      "outputs": [
        {
          "output_type": "stream",
          "name": "stdout",
          "text": [
            "156\n"
          ]
        }
      ]
    },
    {
      "cell_type": "code",
      "source": [
        "print(\"tinggi badan:156\",tinggibadan)"
      ],
      "metadata": {
        "colab": {
          "base_uri": "https://localhost:8080/"
        },
        "id": "PmyJ0GuqOJLQ",
        "outputId": "9a08e96d-6a24-4ffb-f610-16b28854047a"
      },
      "execution_count": null,
      "outputs": [
        {
          "output_type": "stream",
          "name": "stdout",
          "text": [
            "tinggi badan:156 156\n"
          ]
        }
      ]
    },
    {
      "cell_type": "code",
      "source": [
        "print(\"Usia Anda: \" + str(usia))"
      ],
      "metadata": {
        "colab": {
          "base_uri": "https://localhost:8080/"
        },
        "id": "7LrsX-PMRc8M",
        "outputId": "1f39cb49-05c5-4d6b-c999-d9293fa1db31"
      },
      "execution_count": null,
      "outputs": [
        {
          "output_type": "stream",
          "name": "stdout",
          "text": [
            "Usia Anda: 20\n"
          ]
        }
      ]
    },
    {
      "cell_type": "code",
      "source": [
        "(LuasMAN = 1.1)\n",
        "print(\"Luas MAN adalah \" + str(LuasMAN)) + \" Kilometer persegi.\")"
      ],
      "metadata": {
        "colab": {
          "base_uri": "https://localhost:8080/",
          "height": 176
        },
        "id": "zey_qnMxSaWz",
        "outputId": "ccfaf6df-9f13-4cbe-e375-703011d60eb8"
      },
      "execution_count": null,
      "outputs": [
        {
          "output_type": "error",
          "ename": "SyntaxError",
          "evalue": "unmatched ')' (ipython-input-285141127.py, line 2)",
          "traceback": [
            "\u001b[0;36m  File \u001b[0;32m\"/tmp/ipython-input-285141127.py\"\u001b[0;36m, line \u001b[0;32m2\u001b[0m\n\u001b[0;31m    print(\"Luas MAN adalah \" + str(LuasMAN)) + \" Kilometer persegi.\")\u001b[0m\n\u001b[0m                                                                    ^\u001b[0m\n\u001b[0;31mSyntaxError\u001b[0m\u001b[0;31m:\u001b[0m unmatched ')'\n"
          ]
        }
      ]
    },
    {
      "cell_type": "code",
      "source": [
        "print(f\"Luas MAN adalah {LuasMAN} Kilometer persegi.\")"
      ],
      "metadata": {
        "id": "XBSecrhgUG97"
      },
      "execution_count": null,
      "outputs": []
    }
  ]
}